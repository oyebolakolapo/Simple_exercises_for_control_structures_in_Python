{
  "cells": [
    {
      "cell_type": "markdown",
      "metadata": {
        "id": "view-in-github",
        "colab_type": "text"
      },
      "source": [
        "<a href=\"https://colab.research.google.com/github/oyebolakolapo/Simple_exercises_for_control_structures_in_Python/blob/main/udfs_exercise.ipynb\" target=\"_parent\"><img src=\"https://colab.research.google.com/assets/colab-badge.svg\" alt=\"Open In Colab\"/></a>"
      ]
    },
    {
      "cell_type": "markdown",
      "metadata": {
        "id": "VrHmEDPUNgyu"
      },
      "source": [
        "# UDFs in Python"
      ]
    },
    {
      "cell_type": "markdown",
      "metadata": {
        "id": "puMBCIksNgyw"
      },
      "source": [
        "#### Greeter\n",
        "Write a function that takes in a person's name, and prints out a greeting.\n",
        "The greeting must be at least three lines, and the person's name must be in each line.\n",
        "Use your function to greet at least **three** different people.\n",
        "\n",
        "**Bonus:** Store your three people in a list, and call your function from a for loop.\n",
        "\n",
        "\n",
        "**Example Output:**\n",
        "\n",
        "Hello John!<br>\n",
        "Hello John!<br>\n",
        "Hello John!<br>"
      ]
    },
    {
      "cell_type": "code",
      "execution_count": 1,
      "metadata": {
        "id": "4KZi75vzNgyx"
      },
      "outputs": [],
      "source": [
        "def greet (name):\n",
        "  print (f\"Hi {name}\")"
      ]
    },
    {
      "cell_type": "code",
      "execution_count": 2,
      "metadata": {
        "colab": {
          "base_uri": "https://localhost:8080/"
        },
        "id": "FE29C9ITNgyx",
        "outputId": "cbc1c286-034f-4d71-dcb0-967b4de56665"
      },
      "outputs": [
        {
          "output_type": "stream",
          "name": "stdout",
          "text": [
            "Hi John\n",
            "Hi Adam\n",
            "Hi Ojo\n"
          ]
        }
      ],
      "source": [
        "greet(\"John\")\n",
        "greet(\"Adam\")\n",
        "greet(\"Ojo\")"
      ]
    },
    {
      "cell_type": "markdown",
      "metadata": {
        "id": "h4POMamzNgyx"
      },
      "source": [
        "#### Full Names\n",
        "Write a function that takes in a first name and a last name, and prints out a nicely formatted full name, in a sentence. Your sentence could be as simple as, \"Hello, full_name.\""
      ]
    },
    {
      "cell_type": "code",
      "execution_count": 3,
      "metadata": {
        "id": "0mNRD8SaNgyy"
      },
      "outputs": [],
      "source": [
        "def greet (first_name, last_name):\n",
        "  print(f\"Hi {first_name} {last_name}\")"
      ]
    },
    {
      "cell_type": "code",
      "execution_count": 5,
      "metadata": {
        "colab": {
          "base_uri": "https://localhost:8080/"
        },
        "id": "gBUsmekCNgyy",
        "outputId": "faaeedb8-ce86-489e-abd8-b86c3920181c"
      },
      "outputs": [
        {
          "output_type": "stream",
          "name": "stdout",
          "text": [
            "Hi Kolapo Oyebola\n"
          ]
        }
      ],
      "source": [
        "greet(\"Kolapo\" , \"Oyebola\")"
      ]
    },
    {
      "cell_type": "markdown",
      "metadata": {
        "id": "RqK4gzKHNgyy"
      },
      "source": [
        "#### Addition Calculator\n",
        "Write a function that takes in two numbers, and adds them together. Make your function print out a sentence showing the two numbers, and the result.\n",
        "\n",
        "**Example Output:**\n",
        "\n",
        "The sum of 2 and 3 is 5."
      ]
    },
    {
      "cell_type": "code",
      "execution_count": 6,
      "metadata": {
        "id": "29-6SRXrNgyy"
      },
      "outputs": [],
      "source": [
        "def increment (number, by):\n",
        "  print (number + by)"
      ]
    },
    {
      "cell_type": "code",
      "execution_count": 8,
      "metadata": {
        "colab": {
          "base_uri": "https://localhost:8080/"
        },
        "id": "A0JyTeIdNgyy",
        "outputId": "da3ed5bb-0a0c-4846-b608-b8c3a51e61fc"
      },
      "outputs": [
        {
          "output_type": "stream",
          "name": "stdout",
          "text": [
            "10\n"
          ]
        }
      ],
      "source": [
        "increment(3, 7)"
      ]
    },
    {
      "cell_type": "markdown",
      "metadata": {
        "id": "8WSBSb-2Ngyy"
      },
      "source": [
        "#### Return Calculator\n",
        "Modify Addition Calculator so that your function **returns** the sum of the two numbers. The printing should happen outside of the function."
      ]
    },
    {
      "cell_type": "code",
      "execution_count": 9,
      "metadata": {
        "id": "PSzfV_mDNgyy"
      },
      "outputs": [],
      "source": [
        "def increment (number, by):\n",
        "  return(number + by)"
      ]
    },
    {
      "cell_type": "code",
      "execution_count": 17,
      "metadata": {
        "colab": {
          "base_uri": "https://localhost:8080/"
        },
        "id": "4JT8MWiJNgyz",
        "outputId": "ba2c1259-8930-4aa2-933b-55a81302f732"
      },
      "outputs": [
        {
          "output_type": "execute_result",
          "data": {
            "text/plain": [
              "9"
            ]
          },
          "metadata": {},
          "execution_count": 17
        }
      ],
      "source": [
        "increment (2, 7)"
      ]
    },
    {
      "cell_type": "markdown",
      "metadata": {
        "id": "WolGZBBMNgyz"
      },
      "source": [
        "#### Sum everything in the list\n",
        "\n",
        "Write a Python function to sum all the numbers in a list"
      ]
    },
    {
      "cell_type": "code",
      "execution_count": 24,
      "metadata": {
        "id": "0rep6FmJNgyz"
      },
      "outputs": [],
      "source": [
        "total = 0"
      ]
    },
    {
      "cell_type": "code",
      "execution_count": 32,
      "metadata": {
        "id": "cu6uLJnXNgy0"
      },
      "outputs": [],
      "source": [
        "list1 = [11, 5, 17, 18, 23]"
      ]
    },
    {
      "cell_type": "markdown",
      "metadata": {
        "id": "3SxUPerCNgy0"
      },
      "source": [
        "#### Reverse string\n",
        "\n",
        "Write a Python program to reverse a string.\n",
        "\n",
        "Sample String : \"1234abcd\" <br>\n",
        "Expected Output : \"dcba4321\""
      ]
    },
    {
      "cell_type": "code",
      "execution_count": 35,
      "metadata": {
        "id": "Xb8oj01VNgy0"
      },
      "outputs": [],
      "source": [
        "for ele in range(0, len(list1)):\n",
        "  total = total + list1[ele]"
      ]
    },
    {
      "cell_type": "code",
      "execution_count": 36,
      "metadata": {
        "colab": {
          "base_uri": "https://localhost:8080/"
        },
        "id": "6pLgn8rSNgy0",
        "outputId": "e9d80ef1-354f-498c-a233-33284b5d6147"
      },
      "outputs": [
        {
          "output_type": "stream",
          "name": "stdout",
          "text": [
            "74\n"
          ]
        }
      ],
      "source": [
        "print(total)"
      ]
    },
    {
      "cell_type": "markdown",
      "metadata": {
        "id": "wND8foipNgy0"
      },
      "source": [
        "#### Range check\n",
        "\n",
        "Write a Python function to check whether a number is in a given range.\n",
        "\n",
        "Inputs: number, tuple of min and max<br>\n",
        "Outputs: True/False"
      ]
    },
    {
      "cell_type": "code",
      "execution_count": 52,
      "metadata": {
        "colab": {
          "base_uri": "https://localhost:8080/"
        },
        "id": "EMZDxUiRNgy0",
        "outputId": "c7e0b346-b33b-44c4-ff3a-cde2bb8fdc59"
      },
      "outputs": [
        {
          "output_type": "stream",
          "name": "stdout",
          "text": [
            "True\n"
          ]
        }
      ],
      "source": [
        "def is_in_range(n, r):\n",
        "  return r['min'] <= n <= r['max']\n",
        "print (is_in_range(4, {\"min\": 0, \"max\": 5}))"
      ]
    },
    {
      "cell_type": "code",
      "execution_count": null,
      "metadata": {
        "id": "FdiOHQwUNgy0"
      },
      "outputs": [],
      "source": []
    }
  ],
  "metadata": {
    "kernelspec": {
      "display_name": "Python 3",
      "language": "python",
      "name": "python3"
    },
    "language_info": {
      "codemirror_mode": {
        "name": "ipython",
        "version": 3
      },
      "file_extension": ".py",
      "mimetype": "text/x-python",
      "name": "python",
      "nbconvert_exporter": "python",
      "pygments_lexer": "ipython3",
      "version": "3.7.6"
    },
    "colab": {
      "provenance": [],
      "include_colab_link": true
    }
  },
  "nbformat": 4,
  "nbformat_minor": 0
}