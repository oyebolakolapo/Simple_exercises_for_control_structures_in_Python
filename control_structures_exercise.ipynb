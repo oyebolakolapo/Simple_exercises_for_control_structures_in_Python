{
  "cells": [
    {
      "cell_type": "markdown",
      "metadata": {
        "id": "nNKouKi3tnjN"
      },
      "source": [
        "# Simple exercises for control structures in Python\n",
        "- conditionals\n",
        "- while loops\n",
        "- for loops"
      ]
    },
    {
      "cell_type": "markdown",
      "metadata": {
        "id": "dOBsTEyqtnjS"
      },
      "source": [
        "## FOR loop"
      ]
    },
    {
      "cell_type": "code",
      "execution_count": null,
      "metadata": {
        "id": "oAGJQvO6tnjT"
      },
      "outputs": [],
      "source": [
        "heights = [1.82,1.75,1.68,1.76,1.5]"
      ]
    },
    {
      "cell_type": "markdown",
      "metadata": {
        "id": "amHr3vPGtnjV"
      },
      "source": [
        "#### 0. Use for loop to print values from \"heights\" list"
      ]
    },
    {
      "cell_type": "code",
      "execution_count": 88,
      "metadata": {
        "colab": {
          "base_uri": "https://localhost:8080/"
        },
        "id": "7g1I0jPntnjV",
        "outputId": "cb26c2c3-ee8d-484d-ab5a-d9f85dab6944"
      },
      "outputs": [
        {
          "output_type": "stream",
          "name": "stdout",
          "text": [
            "1.82\n",
            "1.75\n",
            "1.68\n",
            "1.76\n",
            "1.5\n"
          ]
        }
      ],
      "source": [
        "for n in heights:\n",
        " print (n)"
      ]
    },
    {
      "cell_type": "code",
      "execution_count": null,
      "metadata": {
        "id": "eIJdDzOItnjW"
      },
      "outputs": [],
      "source": []
    },
    {
      "cell_type": "code",
      "source": [],
      "metadata": {
        "id": "tCrjmilFtrdl"
      },
      "execution_count": null,
      "outputs": []
    },
    {
      "cell_type": "markdown",
      "source": [],
      "metadata": {
        "id": "ILbUDoxrtq7T"
      }
    },
    {
      "cell_type": "markdown",
      "metadata": {
        "id": "iCmieumrtnjW"
      },
      "source": [
        "#### 1. Use for loop for printing only values bigger than 1.75"
      ]
    },
    {
      "cell_type": "code",
      "execution_count": 121,
      "metadata": {
        "colab": {
          "base_uri": "https://localhost:8080/"
        },
        "id": "BaFZe9IdtnjW",
        "outputId": "9bc6d0be-3841-4bf0-da1d-ddfd1acef8ad"
      },
      "outputs": [
        {
          "output_type": "stream",
          "name": "stdout",
          "text": [
            "1.82\n",
            "1.76\n"
          ]
        }
      ],
      "source": [
        "for n in heights:\n",
        "  if n <= 1.75:\n",
        "    continue\n",
        "  print (n)"
      ]
    },
    {
      "cell_type": "code",
      "execution_count": null,
      "metadata": {
        "id": "pHYTjJJWtnjW"
      },
      "outputs": [],
      "source": []
    },
    {
      "cell_type": "markdown",
      "metadata": {
        "id": "Q3XxOQwjtnjX"
      },
      "source": [
        "#### 2. Use for loop for printing all values until you find value 1.68 (included)"
      ]
    },
    {
      "cell_type": "code",
      "execution_count": 109,
      "metadata": {
        "colab": {
          "base_uri": "https://localhost:8080/"
        },
        "id": "oo_4kCCEtnjX",
        "outputId": "b671978c-b851-4f90-ecbc-59e9a49247a6"
      },
      "outputs": [
        {
          "output_type": "stream",
          "name": "stdout",
          "text": [
            "1.82\n",
            "1.75\n",
            "1.68\n"
          ]
        }
      ],
      "source": [
        "for n in heights:\n",
        "  print (n)\n",
        "  if n == 1.68:\n",
        "    break\n"
      ]
    },
    {
      "cell_type": "code",
      "execution_count": null,
      "metadata": {
        "id": "QZ8j9g63tnjX"
      },
      "outputs": [],
      "source": []
    },
    {
      "cell_type": "markdown",
      "metadata": {
        "id": "NPNDivKDtnjY"
      },
      "source": [
        "#### 3. Modify the previous loop to print all values from `\"heights\"` without value 1.68"
      ]
    },
    {
      "cell_type": "code",
      "execution_count": 113,
      "metadata": {
        "colab": {
          "base_uri": "https://localhost:8080/"
        },
        "id": "ORU6zz0FtnjY",
        "outputId": "cf3e32e9-0614-47e3-e349-430f2b6ce6a2"
      },
      "outputs": [
        {
          "output_type": "stream",
          "name": "stdout",
          "text": [
            "1.82\n",
            "1.75\n",
            "1.76\n",
            "1.5\n"
          ]
        }
      ],
      "source": [
        "for n in heights:\n",
        "  if n == 1.68:\n",
        "    continue\n",
        "  print (n)\n"
      ]
    },
    {
      "cell_type": "code",
      "execution_count": null,
      "metadata": {
        "id": "8M4nvfsutnjZ"
      },
      "outputs": [],
      "source": []
    },
    {
      "cell_type": "markdown",
      "metadata": {
        "id": "VPV6rRAEtnjZ"
      },
      "source": [
        "#### 4. use for loop over to iterate over `\"heights\"` and print \"high\" for values bigger than 1.75, \"medium\" for values between 1.68 and 1.75 and \"small\" for values lower than 1.68"
      ]
    },
    {
      "cell_type": "code",
      "execution_count": 153,
      "metadata": {
        "colab": {
          "base_uri": "https://localhost:8080/"
        },
        "id": "hLZYNw3KtnjZ",
        "outputId": "12d4d215-199f-488d-a95d-6c66c1c6d133"
      },
      "outputs": [
        {
          "output_type": "stream",
          "name": "stdout",
          "text": [
            "1.82 high\n",
            "1.76 high\n"
          ]
        }
      ],
      "source": [
        "heights = [1.82, 1.75, 1.68, 1.76, 1.5]\n",
        "for n in heights:\n",
        "  if n <= 1.75:\n",
        "   continue\n",
        "  print (n, \"high\")"
      ]
    },
    {
      "cell_type": "code",
      "execution_count": null,
      "metadata": {
        "id": "uKsPB5AftnjZ"
      },
      "outputs": [],
      "source": []
    },
    {
      "cell_type": "markdown",
      "metadata": {
        "id": "01JTJLidtnja"
      },
      "source": [
        "## WHILE loop"
      ]
    },
    {
      "cell_type": "markdown",
      "metadata": {
        "id": "Bj_IiEeXtnja"
      },
      "source": [
        "#### 1. Print out numbers from 0 to 4"
      ]
    },
    {
      "cell_type": "code",
      "execution_count": 162,
      "metadata": {
        "colab": {
          "base_uri": "https://localhost:8080/"
        },
        "id": "GdHi7Edctnja",
        "outputId": "100458e0-d1ae-4b03-ea90-769d341cabbe"
      },
      "outputs": [
        {
          "output_type": "stream",
          "name": "stdout",
          "text": [
            "1\n",
            "2\n",
            "3\n",
            "4\n"
          ]
        }
      ],
      "source": [
        "x = 1\n",
        "while x < 5:\n",
        "    print (x)\n",
        "    x += 1"
      ]
    },
    {
      "cell_type": "code",
      "execution_count": null,
      "metadata": {
        "id": "4-h-2uO0tnja"
      },
      "outputs": [],
      "source": []
    },
    {
      "cell_type": "markdown",
      "metadata": {
        "id": "0ZSGFsy7tnjb"
      },
      "source": [
        "#### 2. use while loop to print out only even numbers lower than 15\n",
        "hint : use `\"%\"` modulo operator"
      ]
    },
    {
      "cell_type": "code",
      "execution_count": 166,
      "metadata": {
        "colab": {
          "base_uri": "https://localhost:8080/"
        },
        "id": "wJ1miSH2tnjb",
        "outputId": "fee277b6-441d-411c-8687-982b57e647d2"
      },
      "outputs": [
        {
          "output_type": "stream",
          "name": "stdout",
          "text": [
            "2\n",
            "4\n",
            "6\n",
            "8\n",
            "10\n",
            "12\n",
            "14\n"
          ]
        }
      ],
      "source": [
        "y = 2\n",
        "while y < 15:\n",
        "       print (y)\n",
        "       y += 2\n"
      ]
    },
    {
      "cell_type": "code",
      "execution_count": null,
      "metadata": {
        "id": "kM2SIO11tnjc"
      },
      "outputs": [],
      "source": []
    },
    {
      "cell_type": "markdown",
      "metadata": {
        "id": "QnxRtnKztnjc"
      },
      "source": [
        "#### 3. use while loop to print all numbers lower than 15 but skip first five values"
      ]
    },
    {
      "cell_type": "code",
      "execution_count": 167,
      "metadata": {
        "colab": {
          "base_uri": "https://localhost:8080/"
        },
        "id": "Ze8znxPstnjc",
        "outputId": "a7c99c25-fb99-4dd8-cfba-42678319a4ed"
      },
      "outputs": [
        {
          "output_type": "stream",
          "name": "stdout",
          "text": [
            "6\n",
            "7\n",
            "8\n",
            "9\n",
            "10\n",
            "11\n",
            "12\n",
            "13\n",
            "14\n"
          ]
        }
      ],
      "source": [
        "a = 6\n",
        "while a < 15:\n",
        "  print (a)\n",
        "  a += 1"
      ]
    },
    {
      "cell_type": "code",
      "execution_count": null,
      "metadata": {
        "id": "o08sHBFltnjd"
      },
      "outputs": [],
      "source": []
    },
    {
      "cell_type": "markdown",
      "metadata": {
        "id": "oIAcv1lJtnje"
      },
      "source": [
        "## Actors\n",
        "We have two lists actors and roles which are defined below:"
      ]
    },
    {
      "cell_type": "code",
      "execution_count": null,
      "metadata": {
        "id": "WEZZvlS7tnjf"
      },
      "outputs": [],
      "source": [
        "actors = [\n",
        "    \"Nathan Fillion\",\n",
        "    \"Gina Torres\",\n",
        "    \"Alan Tudyk\",\n",
        "    \"Morena Baccarin\",\n",
        "    \"Adam Baldwin\",\n",
        "    \"Jewel Staite\",\n",
        "    \"Sean Maher\",\n",
        "    \"Summer Glau\",\n",
        "    \"Ron Glass\"\n",
        "]\n",
        "\n",
        "roles = [\n",
        "    \"Captain Malcolm Reynolds\",\n",
        "    \"Zoe Washburn\",\n",
        "    \"Hoban Washburn\",\n",
        "    \"Inara Serra\",\n",
        "    \"Jayne Cobb\",\n",
        "    \"Kaylee Frye\",\n",
        "    \"Dr. Simon Tam\",\n",
        "    \"River Tam\",\n",
        "    \"Derrial Book\"\n",
        "]"
      ]
    },
    {
      "cell_type": "markdown",
      "metadata": {
        "id": "QhbtCo_2tnjg"
      },
      "source": [
        "We would like to produce a credit reel, by matching each actor with their role in the show. We know that both lists are in the correct order, such that for any number—let's say `n`—we know that `actors[n]` and `roles[n]` match. For example, `actors[3]` gives us \"Morena Baccarin,\" and `roles[3]` gives us \"Inara Serra,\" so we know that Morena Baccarin played Inara Serra in the show. **We want to print out the credits for all of the actors in the list.**\n",
        "\n",
        "Here's an example of what we want to see when the code runs:\n",
        "\n",
        "Featuring:<br>\n",
        "=============<br>\n",
        "Nathan Fillion as Captain Malcolm Reynolds\"<br>\n",
        "...."
      ]
    },
    {
      "cell_type": "code",
      "execution_count": 177,
      "metadata": {
        "colab": {
          "base_uri": "https://localhost:8080/"
        },
        "id": "7HRa0Uj7tnjh",
        "outputId": "75b019c0-981d-4cfc-a9b2-b3ce02b238d7"
      },
      "outputs": [
        {
          "output_type": "stream",
          "name": "stdout",
          "text": [
            "Nathan Fillion Captain Malcolm Reynolds\n",
            "Gina Torres Zoe Washburn\n",
            "Alan Tudyk Hoban Washburn\n",
            "Morena Baccarin Inara Serra\n",
            "Adam Baldwin Jayne Cobb\n",
            "Jewel Staite Kaylee Frye\n",
            "Sean Maher Dr. Simon Tam\n",
            "Summer Glau River Tam\n",
            "Ron Glass Derrial Book\n"
          ]
        }
      ],
      "source": [
        "##iterate over more than one list simultaneously\n",
        "for (b, c) in zip (actors, roles):\n",
        "    print (b, c)"
      ]
    },
    {
      "cell_type": "code",
      "execution_count": null,
      "metadata": {
        "id": "0feEAniItnji"
      },
      "outputs": [],
      "source": []
    }
  ],
  "metadata": {
    "kernelspec": {
      "display_name": "Python 3",
      "language": "python",
      "name": "python3"
    },
    "language_info": {
      "codemirror_mode": {
        "name": "ipython",
        "version": 3
      },
      "file_extension": ".py",
      "mimetype": "text/x-python",
      "name": "python",
      "nbconvert_exporter": "python",
      "pygments_lexer": "ipython3",
      "version": "3.7.6"
    },
    "colab": {
      "provenance": []
    }
  },
  "nbformat": 4,
  "nbformat_minor": 0
}